{
  "cells": [
    {
      "cell_type": "code",
      "execution_count": 69,
      "id": "bca81529",
      "metadata": {
        "id": "bca81529"
      },
      "outputs": [],
      "source": [
        "import pandas as pd\n",
        "df = pd.read_csv(\"../data/legal_qa_summarized_full.csv\", encoding='unicode_escape')"
      ]
    },
    {
      "cell_type": "code",
      "execution_count": 70,
      "id": "81ddbe6f",
      "metadata": {
        "id": "81ddbe6f"
      },
      "outputs": [],
      "source": [
        "questions_list = df['question'].tolist()"
      ]
    },
    {
      "cell_type": "code",
      "execution_count": 71,
      "id": "64601d5e",
      "metadata": {
        "id": "64601d5e"
      },
      "outputs": [],
      "source": [
        "answers_list = df['answer'].tolist()"
      ]
    },
    {
      "cell_type": "code",
      "execution_count": 72,
      "id": "a3bffd3a",
      "metadata": {
        "colab": {
          "base_uri": "https://localhost:8080/"
        },
        "id": "a3bffd3a",
        "outputId": "2836429f-1ca8-41ea-cba0-0f93ac545368"
      },
      "outputs": [
        {
          "name": "stderr",
          "output_type": "stream",
          "text": [
            "[nltk_data] Downloading package punkt to /home/gowgow/nltk_data...\n",
            "[nltk_data]   Package punkt is already up-to-date!\n",
            "[nltk_data] Downloading package wordnet to /home/gowgow/nltk_data...\n",
            "[nltk_data]   Package wordnet is already up-to-date!\n",
            "[nltk_data] Downloading package stopwords to /home/gowgow/nltk_data...\n",
            "[nltk_data]   Package stopwords is already up-to-date!\n"
          ]
        },
        {
          "data": {
            "text/plain": [
              "True"
            ]
          },
          "execution_count": 72,
          "metadata": {},
          "output_type": "execute_result"
        }
      ],
      "source": [
        "import nltk\n",
        "import numpy as np\n",
        "from sklearn.feature_extraction.text import TfidfVectorizer\n",
        "from sklearn.metrics.pairwise import cosine_similarity\n",
        "\n",
        "nltk.download('punkt')\n",
        "nltk.download('wordnet')\n",
        "nltk.download('stopwords')"
      ]
    },
    {
      "cell_type": "code",
      "execution_count": 73,
      "id": "5e900a08",
      "metadata": {
        "id": "5e900a08"
      },
      "outputs": [],
      "source": [
        "from nltk.stem import WordNetLemmatizer, PorterStemmer\n",
        "from nltk.corpus import stopwords\n",
        "import re\n",
        "\n",
        "def preprocess(text):\n",
        "    lemmatizer = WordNetLemmatizer()\n",
        "    stemmer = PorterStemmer()\n",
        "    text = re.sub(r'[^\\w\\s]', '', text)  # Remove non-alphanumeric characters\n",
        "    tokens = nltk.word_tokenize(text.lower())\n",
        "    tokens = [token for token in tokens if token not in stopwords.words('english')]\n",
        "    lemmatized_tokens = [lemmatizer.lemmatize(token) for token in tokens]\n",
        "    stemmed_tokens = [stemmer.stem(token) for token in lemmatized_tokens]\n",
        "    return ' '.join(stemmed_tokens)"
      ]
    },
    {
      "cell_type": "code",
      "execution_count": 74,
      "id": "194886bb",
      "metadata": {
        "id": "194886bb"
      },
      "outputs": [],
      "source": [
        "def preprocess_with_stopwords(text):\n",
        "    lemmatizer = WordNetLemmatizer()\n",
        "    stemmer = PorterStemmer()\n",
        "    text = re.sub(r'[^\\w\\s]', '', text)  # Remove non-alphanumeric characters\n",
        "    tokens = nltk.word_tokenize(text.lower())\n",
        "    lemmatized_tokens = [lemmatizer.lemmatize(token) for token in tokens]\n",
        "    stemmed_tokens = [stemmer.stem(token) for token in lemmatized_tokens]\n",
        "    return ' '.join(stemmed_tokens)"
      ]
    },
    {
      "cell_type": "code",
      "execution_count": 75,
      "id": "d4d658f6",
      "metadata": {
        "colab": {
          "base_uri": "https://localhost:8080/"
        },
        "id": "d4d658f6",
        "outputId": "6292ea33-aa38-462a-9a4b-f4e19ef42135"
      },
      "outputs": [
        {
          "name": "stderr",
          "output_type": "stream",
          "text": [
            "/home/gowgow/miniconda3/envs/chatbot/lib/python3.12/site-packages/sklearn/feature_extraction/text.py:525: UserWarning: The parameter 'token_pattern' will not be used since 'tokenizer' is not None'\n",
            "  warnings.warn(\n"
          ]
        }
      ],
      "source": [
        "vectorizer = TfidfVectorizer(tokenizer=nltk.word_tokenize)\n",
        "X = vectorizer.fit_transform([preprocess(q) for q in questions_list])"
      ]
    },
    {
      "cell_type": "code",
      "execution_count": 76,
      "id": "5af2616a",
      "metadata": {},
      "outputs": [
        {
          "data": {
            "text/plain": [
              "['tfidf_matrix.joblib']"
            ]
          },
          "execution_count": 76,
          "metadata": {},
          "output_type": "execute_result"
        }
      ],
      "source": [
        "import joblib\n",
        "\n",
        "joblib.dump(vectorizer, 'tfidf_vectorizer.joblib')\n",
        "joblib.dump(X, 'tfidf_matrix.joblib')"
      ]
    },
    {
      "cell_type": "code",
      "execution_count": null,
      "id": "8595d625",
      "metadata": {},
      "outputs": [],
      "source": [
        "vectorizer = joblib.load('tfidf_vectorizer.joblib')\n",
        "X = joblib.load('tfidf_matrix.joblib')"
      ]
    },
    {
      "cell_type": "code",
      "execution_count": 77,
      "id": "a4f2ea88",
      "metadata": {},
      "outputs": [],
      "source": [
        "def get_response(text):\n",
        "    processed_text = preprocess_with_stopwords(text)\n",
        "    print(\"processed_text:\", processed_text)\n",
        "    vectorized_text = vectorizer.transform([processed_text])\n",
        "    similarities = cosine_similarity(vectorized_text, X)\n",
        "    print(\"similarities:\", similarities)\n",
        "    max_similarity = np.max(similarities)\n",
        "    print(\"max_similarity:\", max_similarity)\n",
        "    if max_similarity >= 0.3:\n",
        "        high_similarity_questions = [q for q, s in zip(questions_list, similarities[0]) if s >= 0.3]\n",
        "        print(\"high_similarity_questions:\", high_similarity_questions)\n",
        "\n",
        "        target_answers = []\n",
        "        for q in high_similarity_questions:\n",
        "            q_index = questions_list.index(q)\n",
        "            target_answers.append(answers_list[q_index])\n",
        "        print(target_answers)\n",
        "\n",
        "        Z = vectorizer.fit_transform([preprocess_with_stopwords(q) for q in high_similarity_questions])\n",
        "        processed_text_with_stopwords = preprocess_with_stopwords(text)\n",
        "        print(\"processed_text_with_stopwords:\", processed_text_with_stopwords)\n",
        "        vectorized_text_with_stopwords = vectorizer.transform([processed_text_with_stopwords])\n",
        "        final_similarities = cosine_similarity(vectorized_text_with_stopwords, Z)\n",
        "        closest = np.argmax(final_similarities)\n",
        "        return target_answers[closest]\n",
        "    else:\n",
        "        return \"I can't answer this question.\""
      ]
    },
    {
      "cell_type": "code",
      "execution_count": 78,
      "id": "a91b3289",
      "metadata": {},
      "outputs": [
        {
          "name": "stdout",
          "output_type": "stream",
          "text": [
            "processed_text: find me a divorc lawyer\n",
            "similarities: [[0. 0. 0. ... 0. 0. 0.]]\n",
            "max_similarity: 0.5574737601444921\n",
            "high_similarity_questions: ['What Does It Mean To Contest Divorce?', 'Five Steps That Show You How To File For Divorce', 'How To Get A Copy Of Divorce Papers From California', 'How To Divorce Your Parents', 'The Best Way to Find a Pro Bono Divorce Lawyer', 'What Does California Law Say About Health Insurance After Divorce?', 'Q: I want to protect my assets before a divorce by  creating a trust. Should I have a trust before or after the divorce?.                 Is creating a trust the best option to protect my assets before a divorce in Utah? If yes, should I have my trust before or after the divorce? What options I have to minimize the loss of my assets in Utah?            ', 'Q: I was coerced into signing divorce papers. How hard is it to contest a divorce judgement?.                 He signed our house over to his brother. Lied about the worth of our company. He made me give him custody of our kids. He also started paying me from the company so it would look like we made the same money. We still lived and work together. Now he wants me to move out after leaving me with nothing. During the divorce he got mad and told me I did not trust him every time I told him I needed my own lawyer.            ', \"Q: Why are there two counts on my PA Divorce Papers?.                 I, the Defendant in this, have two Counts from my soon-to-be Ex-Wife's lawyer regarding Divorce. Count I: DIVORCE UNDER SECTION 3301(c) OR (d) OF THE DIVORCE CODE Count II: DIVORCE UNDER 3301(a)(6) OF THE DIVORCE CODE I know the code. I keep reading it, but we were supposed to go No-Fault and avoid court and this seems the opposite. Am I basically being told to accept all blame and sign the papers? What is the point of two counts?            \", 'Q: My ex wife is a bigamist, can I use this in my divorce proceedings?.                 I am divorced for over 14 years and just found out my wife married someone in Las Vegas in 1995 while we were still married. We were not separated and got divorced in 2008. I am still paying her spousal support and Osler Smith payments. Can I use this information to my benefit? We are going back to court regarding support as the Gavron warning is in place. She has never had a job nor has she attempted to get one. She signed under penalty of perjury on the 1995 marriage certificate that she divorced me in 1994. I can find no record of this. Is getting my marriage annulled an option? Thanks so much.            ']\n",
            "['To contest divorce means a couple cannot come to an agreement about things like real property, child custody, or a division of assets. A If a respondent does not agree to the terms proposed in the original filing, they may contest divorce at that time. The exact amount of A divorce can only be contested in the court where the original petition was filed. Litigation required to conclude matters being contested will likely take In no-fault and uncontested divorces, a petitioner will often state irreconcilable differences as the overall reason for the A spouse may contest all of what is being stated or asked for in the original divorce petition or may simply choose to contest one or two The court will usually recommend that both parties hire their own attorney. Even if the spouse who originated the divorce filed the appropriate paperwork without assistance It is the responsibility of the respondent and their attorney to convince the court to rule in their favor. To help shape an accurate narrative of Ending a marriage can be a complicated process both emotionally and procedurally. The emotional toll such a divorce might have on a family, The cost of contested divorce may be even higher if a judge rules that one party must pay the other partyâ\\x80\\x99s legal fees.', 'Divorce is either totally dissolving the marriage relation, or suspending its effects so far as concerns the cohabitation of the parties. CNN.com will feature iReporter photos in a weekly Travel Snapshots gallery. Visit CNN.com/Travel each week for a', 'In California certified copies of divorce decrees are either authorized or informational. An informational divorce decree is available for family history or genealogy purposes The state requires a notarized affidavit of a personâ\\x80\\x99s authority to request a divorce decree. The certified divorce decree can be The court will require some detailed information to perform a record search. The better prepared a requestor is, the faster the process can be', 'Sometimes children are more responsible than their parents. The wisest path is legal emancipation. For most states, the legal age of emancipation Parents can be neglectful, harmful, or abusive to their children. Child labor laws still apply whether you live at home or are legally Fill out your papers, file them, and wait for your hearing date. At the hearing, your parents have the right to â\\x80\\x9c', 'Even in the best circumstances, divorce is difficult. In most cases, emotions run high while funds run low. Divorcing couples usually The Bar Association for each state should have a list of attorneys who provide pro bono, or free, services to individuals attempting to divorce A courthouse facilitator is an ideal choice if neither party can afford an attorney. Many divorce lawyers will offer a one-time consultation for', \"There are certain circumstances under which you might be able to retain your ex-spouse's health insurance coverage. Under the applicable state and California law makes it likely that you'll be able to retain health insurance coverage after your divorce. The process of establishing and paying for such COBRA permits certain qualifying ex-spouses to remain covered by their former partners' health insurance plans for up to 18 months.\", 'A:If you are already married, the only way a Trust might help is if both of you sign an irrevocable trust, permanently giving up your asset. For example, the irrevocable trust could give the asset to your children. Once you both sign it, you no longer have control over the asset, so neither of you can claim the asset as your own. This approach will of course deprive you of the asset as well. If a couple comes to my office before marriage, they can sign a prenuptial agreement that will reserve specific assets as your own in case of divorce or death. Some of my clients have me prepare a revocable trust, with some provisions that become irrevocable upon your death. For example, in a second marriage, where you might have childen from a prior relationship, you might want a portion of the estate to go directly to those children. We can make the paragraph that gifts to the children permanent at your death, so surviving spouse cannot change it. Then when both spouses sign, it can only be changed later with the signature of both spouses. If the marriage began in another state, where they had community property, the status of the property - where perhaps you each owned your own house - can carry on into Utah and remain a separate status.', 'A:\"forced\" ??  How?  There are ways to set aside a judgment when there is proof of fraud, duress, and/or various other statutory grounds.  There is a time line (deadline) for seeking such a set-aside.  You should consult with an attorney to find out if you have sufficient evidence to entitle you to seek a court order to set-aside your judgment and readjudicate your case.', \"A:The 3301(a)(6) grounds were probably included in case you weren't agreeable to signing for a no fault divorce. In PA, you're allowed to included seemingly conflicting grounds in your requests for divorce in the complaint. It's perfectly acceptable to then ultimately proceed under one of the two.\", 'A:If your ex-wife committed bigamy by marrying someone else while still married to you, this information may be relevant in your divorce proceedings. It could potentially impact the division of property, spousal support, and other issues related to your divorce. You may want to bring this information to the attention of your attorney and request that they raise this issue in court. Your attorney can advise you on the best way to present this information and how to use it to your advantage. In terms of annulment, it may be possible to have your marriage annulled if your ex-wife committed fraud by falsely representing that she was divorced at the time of her second marriage. However, annulment is a complex legal process, and it would be best to consult with an experienced family law attorney in California who can advise you on the specific facts of your case and whether annulment is a viable option. It is important to note that if your ex-wife committed bigamy, she may also be subject to criminal charges, and you may want to consider reporting the matter to law enforcement. Again, an experienced attorney can provide you with guidance on the best course of action in this regard.']\n",
            "processed_text_with_stopwords: find me a divorc lawyer\n"
          ]
        },
        {
          "data": {
            "text/plain": [
              "'Even in the best circumstances, divorce is difficult. In most cases, emotions run high while funds run low. Divorcing couples usually The Bar Association for each state should have a list of attorneys who provide pro bono, or free, services to individuals attempting to divorce A courthouse facilitator is an ideal choice if neither party can afford an attorney. Many divorce lawyers will offer a one-time consultation for'"
            ]
          },
          "execution_count": 78,
          "metadata": {},
          "output_type": "execute_result"
        }
      ],
      "source": [
        "get_response('find me a divorce lawyer')"
      ]
    },
    {
      "cell_type": "code",
      "execution_count": null,
      "id": "uJ_s0VrsjGcs",
      "metadata": {
        "id": "uJ_s0VrsjGcs"
      },
      "outputs": [],
      "source": []
    }
  ],
  "metadata": {
    "colab": {
      "provenance": []
    },
    "kernelspec": {
      "display_name": "Python 3",
      "language": "python",
      "name": "python3"
    },
    "language_info": {
      "codemirror_mode": {
        "name": "ipython",
        "version": 3
      },
      "file_extension": ".py",
      "mimetype": "text/x-python",
      "name": "python",
      "nbconvert_exporter": "python",
      "pygments_lexer": "ipython3",
      "version": "3.12.0"
    }
  },
  "nbformat": 4,
  "nbformat_minor": 5
}
