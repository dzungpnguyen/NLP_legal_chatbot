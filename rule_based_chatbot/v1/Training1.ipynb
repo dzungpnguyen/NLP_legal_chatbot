{
 "cells": [
  {
   "cell_type": "code",
   "execution_count": 6,
   "metadata": {},
   "outputs": [
    {
     "data": {
      "text/plain": [
       "['tfidf_matrix_cb1.joblib']"
      ]
     },
     "execution_count": 6,
     "metadata": {},
     "output_type": "execute_result"
    }
   ],
   "source": [
    "import random\n",
    "import pandas as pd\n",
    "from sklearn.feature_extraction.text import TfidfVectorizer\n",
    "import spacy\n",
    "import joblib\n",
    "\n",
    "# Load spaCy English tokenizer\n",
    "nlp = spacy.load(\"en_core_web_sm\")\n",
    "\n",
    "# Load dataset\n",
    "df = pd.read_csv('../data/legal_qa_summarized_full.csv')\n",
    "\n",
    "# Preprocess text\n",
    "df['question'] = df['question'].str.lower()\n",
    "df['question'] = df['question'].apply(lambda x: ' '.join([token.text for token in nlp(x)]))\n",
    "\n",
    "# Create a TF-IDF vectorizer\n",
    "vectorizer = TfidfVectorizer()\n",
    "tfidf_matrix = vectorizer.fit_transform(df['question'])\n",
    "\n",
    "# Save matrix and vectorizer to file\n",
    "joblib.dump(vectorizer, 'tfidf_vectorizer_cb1.joblib')\n",
    "joblib.dump(tfidf_matrix, 'tfidf_matrix_cb1.joblib')"
   ]
  },
  {
   "cell_type": "code",
   "execution_count": null,
   "metadata": {},
   "outputs": [],
   "source": []
  }
 ],
 "metadata": {
  "kernelspec": {
   "display_name": "chatbot",
   "language": "python",
   "name": "python3"
  },
  "language_info": {
   "codemirror_mode": {
    "name": "ipython",
    "version": 3
   },
   "file_extension": ".py",
   "mimetype": "text/x-python",
   "name": "python",
   "nbconvert_exporter": "python",
   "pygments_lexer": "ipython3",
   "version": "3.12.0"
  }
 },
 "nbformat": 4,
 "nbformat_minor": 2
}
